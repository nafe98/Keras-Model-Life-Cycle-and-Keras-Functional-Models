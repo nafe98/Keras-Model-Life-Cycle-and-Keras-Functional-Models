{
 "cells": [
  {
   "cell_type": "markdown",
   "id": "5477941d",
   "metadata": {},
   "source": [
    "# Keras Model Life-Cycle\n",
    "\n",
    "\n",
    "Below is an overview of the 5 steps in the neural network model life-cycle in Keras:\n",
    "1. Define Network.\n",
    "2. Compile Network.\n",
    "3. Fit Network.\n",
    "4. Evaluate Network.\n",
    "5. Make Predictions."
   ]
  },
  {
   "cell_type": "markdown",
   "id": "05e78442",
   "metadata": {},
   "source": [
    "# Step 1. Define Network"
   ]
  },
  {
   "cell_type": "markdown",
   "id": "ae882930",
   "metadata": {},
   "source": [
    "The first step is to define your neural network. Neural networks are defined in Keras as a\n",
    "sequence of layers. The container for these layers is the Sequential class. Create an instance of\n",
    "the Sequential class. Then you can add your layers in the order that they should be connected"
   ]
  },
  {
   "cell_type": "markdown",
   "id": "1c9fbc42",
   "metadata": {},
   "source": [
    "Multilayer Perceptron model\n",
    "this is specified by the input dim attribute. For example, a small Multilayer Perceptron model\n",
    "with 2 inputs in the visible layer, 5 neurons in the hidden layer and one neuron in the output\n",
    "layer can be defined as:"
   ]
  },
  {
   "cell_type": "raw",
   "id": "7089b453",
   "metadata": {},
   "source": [
    "model = Sequential()\n",
    "model.add(Dense(5, input_dim=2))\n",
    "model.add(Dense(1))"
   ]
  },
  {
   "cell_type": "markdown",
   "id": "57664995",
   "metadata": {},
   "source": [
    "Sequential model with 2 inputs"
   ]
  },
  {
   "cell_type": "markdown",
   "id": "bcc2ad97",
   "metadata": {},
   "source": [
    "Think of a Sequential model as a pipeline with your raw data fed in at the bottom and\n",
    "predictions that come out at the top. This is a helpful conception in Keras as components that\n",
    "were traditionally associated with a layer can also be split out and added as separate layers or\n",
    "layer-like objects, clearly showing their role in the transform of data from input to prediction.\n",
    "For example, activation functions that transform a summed signal from each neuron in a layer\n",
    "can be added to the Sequential as a layer-like object called the Activation class."
   ]
  },
  {
   "cell_type": "raw",
   "id": "f6762b22",
   "metadata": {},
   "source": [
    "model = Sequential()\n",
    "model.add(Dense(5, input_dim=2))\n",
    "model.add(Activation('relu'))\n",
    "model.add(Dense(1))\n",
    "model.add(Activation('sigmoid'))"
   ]
  },
  {
   "cell_type": "markdown",
   "id": "9030089c",
   "metadata": {},
   "source": [
    "Sequential model with Activation functions defined separately from layers"
   ]
  },
  {
   "cell_type": "markdown",
   "id": "eb6fba9c",
   "metadata": {},
   "source": [
    "The choice of activation function is most important for the output layer as it will define the\n",
    "format that predictions will take. For example, below are some common predictive modeling\n",
    "problem types and the format and standard activation function that you can use in the output\n",
    "layer:"
   ]
  },
  {
   "cell_type": "markdown",
   "id": "4ba240a8",
   "metadata": {},
   "source": [
    "#### Regression:\n",
    "Linear activation function, or linear (or None), and the number of neurons\n",
    "matching the number of outputs.\n",
    "#### Binary Classification (2 class):\n",
    "Logistic activation function, or sigmoid, and one\n",
    "neuron the output layer.\n",
    "#### Multiclass Classification (>2 class): \n",
    "Softmax activation function, or softmax, and\n",
    "one output neuron per class value, assuming a one hot encoded output pattern."
   ]
  },
  {
   "cell_type": "markdown",
   "id": "804b59f3",
   "metadata": {},
   "source": [
    "# Step 2. Compile Network"
   ]
  },
  {
   "cell_type": "markdown",
   "id": "b0134644",
   "metadata": {},
   "source": [
    "below is a case of compiling a defined model and specifying the stochastic gradient\n",
    "descent (sgd) optimization algorithm and the mean squared error (mean squared error) loss\n",
    "function, intended for a regression type problem"
   ]
  },
  {
   "cell_type": "raw",
   "id": "f9ce24f3",
   "metadata": {},
   "source": [
    "model.compile(optimizer='sgd', loss='mean_squared_error')"
   ]
  },
  {
   "cell_type": "markdown",
   "id": "a1f89afd",
   "metadata": {},
   "source": [
    "Alternately, the optimizer can be created and configured before being provided as an argument\n",
    "to the compilation step."
   ]
  },
  {
   "cell_type": "raw",
   "id": "baf48517",
   "metadata": {},
   "source": [
    "algorithm = SGD(lr=0.1, momentum=0.3)\n",
    "model.compile(optimizer=algorithm, loss='mean_squared_error')"
   ]
  },
  {
   "cell_type": "markdown",
   "id": "ab6055e2",
   "metadata": {},
   "source": [
    "The type of predictive modeling problem imposes constraints on the type of loss function\n",
    "that can be used. For example, below are some standard loss functions for different predictive\n",
    "model types:\n",
    "    \n",
    "#### Regression:\n",
    "Mean Squared Error or mean squared error.\n",
    "#### Binary Classification (2 class):\n",
    "Logarithmic Loss, also called cross-entropy or binary crossentropy.\n",
    "#### Multiclass Classification (>2 class):\n",
    "Multiclass Logarithmic Loss or categorical crossentropy.\n",
    "\n",
    "The most common optimization algorithm is stochastic gradient descent, but Keras also supports a suite of other state-of-the-art optimization algorithms that work well with little or\n",
    "no configuration. Perhaps the most commonly used optimization algorithms because of their generally better performance are:\n",
    "\n",
    "#### Stochastic Gradient Descent, or sgd,\n",
    "that requires the tuning of a learning rate and momentum.\n",
    "#### Adam, or adam,\n",
    "that requires the tuning of learning rate.\n",
    "#### RMSprop, or rmsprop,\n",
    "that requires the tuning of learning rate."
   ]
  },
  {
   "cell_type": "markdown",
   "id": "70caae47",
   "metadata": {},
   "source": [
    "Finally, you can also specify metrics to collect while fitting your model in addition to the\n",
    "loss function. Generally, the most useful additional metric to collect is accuracy for classification\n",
    "problems. The metrics to collect are specified by name in an array. For example:"
   ]
  },
  {
   "cell_type": "raw",
   "id": "b3093bff",
   "metadata": {},
   "source": [
    "model.compile(optimizer='sgd', loss='mean_squared_error', metrics=['accuracy'])"
   ]
  },
  {
   "cell_type": "markdown",
   "id": "50866377",
   "metadata": {},
   "source": [
    "# Step 3. Fit Network"
   ]
  },
  {
   "cell_type": "raw",
   "id": "8ecc997e",
   "metadata": {},
   "source": [
    "history = model.fit(X, y, batch_size=10, epochs=100)"
   ]
  },
  {
   "cell_type": "markdown",
   "id": "d003afd9",
   "metadata": {},
   "source": [
    "At the end of the training process, you may want to save your model for later use. This can be achieved by calling the save() function on the model itself and specifying a filename."
   ]
  },
  {
   "cell_type": "raw",
   "id": "980f6714",
   "metadata": {},
   "source": [
    "model.save('final_model.h5')"
   ]
  },
  {
   "cell_type": "markdown",
   "id": "e8516330",
   "metadata": {},
   "source": [
    "The model can be loaded later by calling the load model() function and specifying the filename."
   ]
  },
  {
   "cell_type": "raw",
   "id": "5b1392df",
   "metadata": {},
   "source": [
    "from keras.models import load_model\n",
    "model = load_model('final_model.h5')"
   ]
  },
  {
   "cell_type": "markdown",
   "id": "a53a711e",
   "metadata": {},
   "source": [
    "# Step 4. Evaluate Network"
   ]
  },
  {
   "cell_type": "raw",
   "id": "cfe222ab",
   "metadata": {},
   "source": [
    "loss, accuracy = model.evaluate(X, y)"
   ]
  },
  {
   "cell_type": "markdown",
   "id": "bccc39f1",
   "metadata": {},
   "source": [
    "# Step 5. Make Predictions"
   ]
  },
  {
   "cell_type": "raw",
   "id": "e7cb399d",
   "metadata": {},
   "source": [
    "predictions = model.predict(X)"
   ]
  },
  {
   "cell_type": "markdown",
   "id": "520e1b9c",
   "metadata": {},
   "source": [
    "The predictions will be returned in the format provided by the output layer of the network.\n",
    "\n",
    "#### In the case of a regression problem,\n",
    "These predictions may be in the format of the problem directly, provided by a linear activation function.\n",
    "\n",
    "#### For a binary classification problem,\n",
    "The predictions may be an array of probabilities for the first class that can be converted to a 1 or 0\n",
    "by rounding.\n"
   ]
  },
  {
   "cell_type": "markdown",
   "id": "6f7db6d0",
   "metadata": {},
   "source": [
    "#### For a multiclass classification problem,\n",
    "The results may be in the form of an array of probabilities (assuming a one hot encoded output variable) that may need to be converted\n",
    "to a single class output prediction using the argmax() NumPy function.\n",
    "\n",
    "#### Alternately,\n",
    "for classification problems, we can use the predict classes() function that will automatically convert the predicted probabilities into class integer values."
   ]
  },
  {
   "cell_type": "raw",
   "id": "ad1196af",
   "metadata": {},
   "source": [
    "predictions = model.predict_classes(X)"
   ]
  },
  {
   "cell_type": "markdown",
   "id": "fbbbcf0b",
   "metadata": {},
   "source": [
    "# Advanced : Keras Functional Models"
   ]
  },
  {
   "cell_type": "markdown",
   "id": "ba485787",
   "metadata": {},
   "source": [
    "The sequential API allows you to create models layer-by-layer for most problems. It is limited\n",
    "in that it does not allow you to create models that share layers or have multiple input or output\n",
    "layers. The functional API in Keras is an alternate way of creating models that offers a lot\n",
    "more flexibility, including creating more complex models.\n",
    "\n",
    "\n",
    "It specifically allows you to define multiple input or output models as well as models that\n",
    "share layers. More than that, it allows you to define ad hoc acyclic network graphs. Models are\n",
    "defined by creating instances of layers and connecting them directly to each other in pairs, then\n",
    "defining a Model that specifies the layers to act as the input and output to the model. Let’s\n",
    "look at the three unique aspects of Keras functional API in turn:"
   ]
  },
  {
   "cell_type": "markdown",
   "id": "6a4ab3e6",
   "metadata": {},
   "source": [
    "# 1. Defining Input"
   ]
  },
  {
   "cell_type": "markdown",
   "id": "290d6db7",
   "metadata": {},
   "source": [
    "Unlike the Sequential model, you must create and define a standalone Input layer that specifies\n",
    "the shape of input data. The input layer takes a shape argument that is a tuple that indicates\n",
    "the dimensionality of the input data. When input data is one-dimensional (rows of samples),\n",
    "such as for a Multilayer Perceptron, the shape must explicitly leave room for the shape of the\n",
    "minibatch size used when splitting the data when training the network. Therefore, the shape\n",
    "tuple is always defined with a hanging last dimension (2,), this is the way you must define a\n",
    "one-dimensional tuple in Python, for example:"
   ]
  },
  {
   "cell_type": "raw",
   "id": "034f2c34",
   "metadata": {},
   "source": [
    "visible = Input(shape=(2,)) # input data is one-dimensional (rows of samples)"
   ]
  },
  {
   "cell_type": "markdown",
   "id": "0b8a40e1",
   "metadata": {},
   "source": [
    "# 2. Connecting Layers"
   ]
  },
  {
   "cell_type": "markdown",
   "id": "df281f76",
   "metadata": {},
   "source": [
    "The layers in the model are connected pairwise. This is done by specifying where the input\n",
    "comes from when defining each new layer. A bracket or functional notation is used, such that\n",
    "after the layer is created, the layer from which the input to the current layer comes from is\n",
    "specified. Let’s make this clear with a short example. We can create the input layer as above,\n",
    "then create a hidden layer as a Dense layer that receives input only from the input layer."
   ]
  },
  {
   "cell_type": "raw",
   "id": "e2defdbb",
   "metadata": {},
   "source": [
    "visible = Input(shape=(2,))\n",
    "hidden = Dense(2)(visible)"
   ]
  },
  {
   "cell_type": "markdown",
   "id": "37ce1a6d",
   "metadata": {},
   "source": [
    "It is the (visible) layer after the creation of the Dense layer that connects the input layer’s\n",
    "output as the input to the Dense hidden layer. It is this way of connecting layers pairwise that\n",
    "gives the functional API its flexibility. For example, you can see how easy it would be to start\n",
    "defining ad hoc graphs of layers."
   ]
  },
  {
   "cell_type": "markdown",
   "id": "98f0a6dc",
   "metadata": {},
   "source": [
    "# 3. Creating the Model"
   ]
  },
  {
   "cell_type": "markdown",
   "id": "5de1a872",
   "metadata": {},
   "source": [
    "After creating all of your model layers and connecting them together, you must define the model.\n",
    "As with the Sequential API, the model is the thing you can summarize, fit, evaluate, and use to\n",
    "make predictions. Keras provides a Model class that you can use to create a model from your\n",
    "created layers. It requires that you only specify the input and output layers. For example:"
   ]
  },
  {
   "cell_type": "raw",
   "id": "1d9c2f81",
   "metadata": {},
   "source": [
    "visible = Input(shape=(2,))\n",
    "hidden = Dense(2)(visible)\n",
    "model = Model(inputs=visible, outputs=hidden)"
   ]
  },
  {
   "cell_type": "markdown",
   "id": "f4cb7f25",
   "metadata": {},
   "source": [
    "# Standard Network Models"
   ]
  },
  {
   "cell_type": "markdown",
   "id": "6adf56e6",
   "metadata": {},
   "source": [
    "1. Multilayer Perceptron\n",
    "\n",
    "2. Convolutional Neural Network\n",
    "\n",
    "3. Recurrent Neural Network"
   ]
  },
  {
   "cell_type": "markdown",
   "id": "d48412c2",
   "metadata": {},
   "source": [
    "# Real Life Problem "
   ]
  },
  {
   "cell_type": "markdown",
   "id": "9073c513",
   "metadata": {},
   "source": [
    "# Importing Libraries"
   ]
  },
  {
   "cell_type": "code",
   "execution_count": 3,
   "id": "274fa8bd",
   "metadata": {},
   "outputs": [],
   "source": [
    "import numpy as np\n",
    "import pandas as pd\n",
    "import matplotlib.pyplot as plt\n",
    "import seaborn as sns\n",
    "from sklearn.model_selection import train_test_split"
   ]
  },
  {
   "cell_type": "markdown",
   "id": "2c024cf3",
   "metadata": {},
   "source": [
    "# loading Data"
   ]
  },
  {
   "cell_type": "code",
   "execution_count": 6,
   "id": "7e740197",
   "metadata": {},
   "outputs": [
    {
     "data": {
      "text/html": [
       "<div>\n",
       "<style scoped>\n",
       "    .dataframe tbody tr th:only-of-type {\n",
       "        vertical-align: middle;\n",
       "    }\n",
       "\n",
       "    .dataframe tbody tr th {\n",
       "        vertical-align: top;\n",
       "    }\n",
       "\n",
       "    .dataframe thead th {\n",
       "        text-align: right;\n",
       "    }\n",
       "</style>\n",
       "<table border=\"1\" class=\"dataframe\">\n",
       "  <thead>\n",
       "    <tr style=\"text-align: right;\">\n",
       "      <th></th>\n",
       "      <th>emg1</th>\n",
       "      <th>emg2</th>\n",
       "      <th>emg3</th>\n",
       "      <th>emg4</th>\n",
       "      <th>emg5</th>\n",
       "      <th>emg6</th>\n",
       "      <th>emg7</th>\n",
       "      <th>emg8</th>\n",
       "      <th>emg9</th>\n",
       "      <th>emg10</th>\n",
       "      <th>repetition</th>\n",
       "      <th>rerepetition</th>\n",
       "      <th>stimulus</th>\n",
       "      <th>restimulus</th>\n",
       "    </tr>\n",
       "  </thead>\n",
       "  <tbody>\n",
       "    <tr>\n",
       "      <th>36068</th>\n",
       "      <td>0.0024</td>\n",
       "      <td>0.0024</td>\n",
       "      <td>0.0024</td>\n",
       "      <td>0.0024</td>\n",
       "      <td>0.0024</td>\n",
       "      <td>0.0024</td>\n",
       "      <td>0.1440</td>\n",
       "      <td>0.1123</td>\n",
       "      <td>0.0024</td>\n",
       "      <td>0.0439</td>\n",
       "      <td>3</td>\n",
       "      <td>0</td>\n",
       "      <td>5</td>\n",
       "      <td>0</td>\n",
       "    </tr>\n",
       "    <tr>\n",
       "      <th>7485</th>\n",
       "      <td>0.0024</td>\n",
       "      <td>0.0024</td>\n",
       "      <td>0.0024</td>\n",
       "      <td>0.0024</td>\n",
       "      <td>0.0024</td>\n",
       "      <td>0.0024</td>\n",
       "      <td>0.0513</td>\n",
       "      <td>0.0342</td>\n",
       "      <td>0.0098</td>\n",
       "      <td>0.0586</td>\n",
       "      <td>9</td>\n",
       "      <td>9</td>\n",
       "      <td>1</td>\n",
       "      <td>1</td>\n",
       "    </tr>\n",
       "    <tr>\n",
       "      <th>18131</th>\n",
       "      <td>0.0708</td>\n",
       "      <td>0.2881</td>\n",
       "      <td>0.1514</td>\n",
       "      <td>0.0635</td>\n",
       "      <td>0.0049</td>\n",
       "      <td>0.0024</td>\n",
       "      <td>0.0586</td>\n",
       "      <td>0.1270</td>\n",
       "      <td>0.4175</td>\n",
       "      <td>0.0854</td>\n",
       "      <td>2</td>\n",
       "      <td>2</td>\n",
       "      <td>3</td>\n",
       "      <td>3</td>\n",
       "    </tr>\n",
       "    <tr>\n",
       "      <th>33857</th>\n",
       "      <td>0.0024</td>\n",
       "      <td>0.0024</td>\n",
       "      <td>0.0049</td>\n",
       "      <td>0.0024</td>\n",
       "      <td>0.0024</td>\n",
       "      <td>0.0024</td>\n",
       "      <td>0.0415</td>\n",
       "      <td>0.0610</td>\n",
       "      <td>0.0024</td>\n",
       "      <td>0.0244</td>\n",
       "      <td>0</td>\n",
       "      <td>0</td>\n",
       "      <td>0</td>\n",
       "      <td>0</td>\n",
       "    </tr>\n",
       "    <tr>\n",
       "      <th>18723</th>\n",
       "      <td>0.0073</td>\n",
       "      <td>0.0024</td>\n",
       "      <td>0.0024</td>\n",
       "      <td>0.0024</td>\n",
       "      <td>0.0024</td>\n",
       "      <td>0.0024</td>\n",
       "      <td>0.0024</td>\n",
       "      <td>0.0635</td>\n",
       "      <td>0.0146</td>\n",
       "      <td>0.0122</td>\n",
       "      <td>0</td>\n",
       "      <td>0</td>\n",
       "      <td>0</td>\n",
       "      <td>0</td>\n",
       "    </tr>\n",
       "  </tbody>\n",
       "</table>\n",
       "</div>"
      ],
      "text/plain": [
       "         emg1    emg2    emg3    emg4    emg5    emg6    emg7    emg8    emg9  \\\n",
       "36068  0.0024  0.0024  0.0024  0.0024  0.0024  0.0024  0.1440  0.1123  0.0024   \n",
       "7485   0.0024  0.0024  0.0024  0.0024  0.0024  0.0024  0.0513  0.0342  0.0098   \n",
       "18131  0.0708  0.2881  0.1514  0.0635  0.0049  0.0024  0.0586  0.1270  0.4175   \n",
       "33857  0.0024  0.0024  0.0049  0.0024  0.0024  0.0024  0.0415  0.0610  0.0024   \n",
       "18723  0.0073  0.0024  0.0024  0.0024  0.0024  0.0024  0.0024  0.0635  0.0146   \n",
       "\n",
       "        emg10  repetition  rerepetition  stimulus  restimulus  \n",
       "36068  0.0439           3             0         5           0  \n",
       "7485   0.0586           9             9         1           1  \n",
       "18131  0.0854           2             2         3           3  \n",
       "33857  0.0244           0             0         0           0  \n",
       "18723  0.0122           0             0         0           0  "
      ]
     },
     "execution_count": 6,
     "metadata": {},
     "output_type": "execute_result"
    }
   ],
   "source": [
    "raw_data = pd.read_excel('Dataset1 .xlsx')\n",
    "raw_data.sample(5)"
   ]
  },
  {
   "cell_type": "code",
   "execution_count": 7,
   "id": "d760579b",
   "metadata": {},
   "outputs": [
    {
     "name": "stdout",
     "output_type": "stream",
     "text": [
      "<class 'pandas.core.frame.DataFrame'>\n",
      "RangeIndex: 101014 entries, 0 to 101013\n",
      "Data columns (total 14 columns):\n",
      " #   Column        Non-Null Count   Dtype  \n",
      "---  ------        --------------   -----  \n",
      " 0   emg1          101014 non-null  float64\n",
      " 1   emg2          101014 non-null  float64\n",
      " 2   emg3          101014 non-null  float64\n",
      " 3   emg4          101014 non-null  float64\n",
      " 4   emg5          101014 non-null  float64\n",
      " 5   emg6          101014 non-null  float64\n",
      " 6   emg7          101014 non-null  float64\n",
      " 7   emg8          101014 non-null  float64\n",
      " 8   emg9          101014 non-null  float64\n",
      " 9   emg10         101014 non-null  float64\n",
      " 10  repetition    101014 non-null  int64  \n",
      " 11  rerepetition  101014 non-null  int64  \n",
      " 12  stimulus      101014 non-null  int64  \n",
      " 13  restimulus    101014 non-null  int64  \n",
      "dtypes: float64(10), int64(4)\n",
      "memory usage: 10.8 MB\n"
     ]
    }
   ],
   "source": [
    "raw_data.info()"
   ]
  },
  {
   "cell_type": "code",
   "execution_count": 8,
   "id": "5885f4d9",
   "metadata": {},
   "outputs": [
    {
     "data": {
      "text/html": [
       "<div>\n",
       "<style scoped>\n",
       "    .dataframe tbody tr th:only-of-type {\n",
       "        vertical-align: middle;\n",
       "    }\n",
       "\n",
       "    .dataframe tbody tr th {\n",
       "        vertical-align: top;\n",
       "    }\n",
       "\n",
       "    .dataframe thead th {\n",
       "        text-align: right;\n",
       "    }\n",
       "</style>\n",
       "<table border=\"1\" class=\"dataframe\">\n",
       "  <thead>\n",
       "    <tr style=\"text-align: right;\">\n",
       "      <th></th>\n",
       "      <th>emg1</th>\n",
       "      <th>emg2</th>\n",
       "      <th>emg3</th>\n",
       "      <th>emg4</th>\n",
       "      <th>emg5</th>\n",
       "      <th>emg6</th>\n",
       "      <th>emg7</th>\n",
       "      <th>emg8</th>\n",
       "      <th>emg9</th>\n",
       "      <th>emg10</th>\n",
       "      <th>repetition</th>\n",
       "      <th>rerepetition</th>\n",
       "      <th>stimulus</th>\n",
       "      <th>restimulus</th>\n",
       "    </tr>\n",
       "  </thead>\n",
       "  <tbody>\n",
       "    <tr>\n",
       "      <th>count</th>\n",
       "      <td>101014.000000</td>\n",
       "      <td>101014.000000</td>\n",
       "      <td>101014.000000</td>\n",
       "      <td>101014.000000</td>\n",
       "      <td>101014.000000</td>\n",
       "      <td>101014.000000</td>\n",
       "      <td>101014.000000</td>\n",
       "      <td>101014.000000</td>\n",
       "      <td>101014.000000</td>\n",
       "      <td>101014.000000</td>\n",
       "      <td>101014.000000</td>\n",
       "      <td>101014.000000</td>\n",
       "      <td>101014.000000</td>\n",
       "      <td>101014.000000</td>\n",
       "    </tr>\n",
       "    <tr>\n",
       "      <th>mean</th>\n",
       "      <td>0.039693</td>\n",
       "      <td>0.086158</td>\n",
       "      <td>0.041308</td>\n",
       "      <td>0.012502</td>\n",
       "      <td>0.003868</td>\n",
       "      <td>0.005367</td>\n",
       "      <td>0.167648</td>\n",
       "      <td>0.116476</td>\n",
       "      <td>0.073460</td>\n",
       "      <td>0.054120</td>\n",
       "      <td>3.372948</td>\n",
       "      <td>2.055349</td>\n",
       "      <td>3.985665</td>\n",
       "      <td>2.329905</td>\n",
       "    </tr>\n",
       "    <tr>\n",
       "      <th>std</th>\n",
       "      <td>0.127180</td>\n",
       "      <td>0.231539</td>\n",
       "      <td>0.101912</td>\n",
       "      <td>0.031334</td>\n",
       "      <td>0.009796</td>\n",
       "      <td>0.021238</td>\n",
       "      <td>0.403823</td>\n",
       "      <td>0.174862</td>\n",
       "      <td>0.156381</td>\n",
       "      <td>0.112567</td>\n",
       "      <td>3.497555</td>\n",
       "      <td>3.188164</td>\n",
       "      <td>4.162080</td>\n",
       "      <td>3.691976</td>\n",
       "    </tr>\n",
       "    <tr>\n",
       "      <th>min</th>\n",
       "      <td>0.002400</td>\n",
       "      <td>0.000000</td>\n",
       "      <td>0.002400</td>\n",
       "      <td>0.000000</td>\n",
       "      <td>0.002400</td>\n",
       "      <td>0.000000</td>\n",
       "      <td>0.002400</td>\n",
       "      <td>0.002400</td>\n",
       "      <td>0.000000</td>\n",
       "      <td>0.002400</td>\n",
       "      <td>0.000000</td>\n",
       "      <td>0.000000</td>\n",
       "      <td>0.000000</td>\n",
       "      <td>0.000000</td>\n",
       "    </tr>\n",
       "    <tr>\n",
       "      <th>25%</th>\n",
       "      <td>0.002400</td>\n",
       "      <td>0.002400</td>\n",
       "      <td>0.002400</td>\n",
       "      <td>0.002400</td>\n",
       "      <td>0.002400</td>\n",
       "      <td>0.002400</td>\n",
       "      <td>0.009800</td>\n",
       "      <td>0.039100</td>\n",
       "      <td>0.002400</td>\n",
       "      <td>0.004900</td>\n",
       "      <td>0.000000</td>\n",
       "      <td>0.000000</td>\n",
       "      <td>0.000000</td>\n",
       "      <td>0.000000</td>\n",
       "    </tr>\n",
       "    <tr>\n",
       "      <th>50%</th>\n",
       "      <td>0.002400</td>\n",
       "      <td>0.002400</td>\n",
       "      <td>0.002400</td>\n",
       "      <td>0.002400</td>\n",
       "      <td>0.002400</td>\n",
       "      <td>0.002400</td>\n",
       "      <td>0.046400</td>\n",
       "      <td>0.061000</td>\n",
       "      <td>0.002400</td>\n",
       "      <td>0.017100</td>\n",
       "      <td>2.000000</td>\n",
       "      <td>0.000000</td>\n",
       "      <td>3.000000</td>\n",
       "      <td>0.000000</td>\n",
       "    </tr>\n",
       "    <tr>\n",
       "      <th>75%</th>\n",
       "      <td>0.024400</td>\n",
       "      <td>0.002400</td>\n",
       "      <td>0.012200</td>\n",
       "      <td>0.002400</td>\n",
       "      <td>0.002400</td>\n",
       "      <td>0.002400</td>\n",
       "      <td>0.129400</td>\n",
       "      <td>0.109900</td>\n",
       "      <td>0.068400</td>\n",
       "      <td>0.048800</td>\n",
       "      <td>6.000000</td>\n",
       "      <td>4.000000</td>\n",
       "      <td>8.000000</td>\n",
       "      <td>4.000000</td>\n",
       "    </tr>\n",
       "    <tr>\n",
       "      <th>max</th>\n",
       "      <td>2.399900</td>\n",
       "      <td>2.480500</td>\n",
       "      <td>1.340300</td>\n",
       "      <td>0.446800</td>\n",
       "      <td>0.293000</td>\n",
       "      <td>0.639600</td>\n",
       "      <td>4.660600</td>\n",
       "      <td>3.000500</td>\n",
       "      <td>1.752900</td>\n",
       "      <td>1.599100</td>\n",
       "      <td>10.000000</td>\n",
       "      <td>10.000000</td>\n",
       "      <td>12.000000</td>\n",
       "      <td>12.000000</td>\n",
       "    </tr>\n",
       "  </tbody>\n",
       "</table>\n",
       "</div>"
      ],
      "text/plain": [
       "                emg1           emg2           emg3           emg4  \\\n",
       "count  101014.000000  101014.000000  101014.000000  101014.000000   \n",
       "mean        0.039693       0.086158       0.041308       0.012502   \n",
       "std         0.127180       0.231539       0.101912       0.031334   \n",
       "min         0.002400       0.000000       0.002400       0.000000   \n",
       "25%         0.002400       0.002400       0.002400       0.002400   \n",
       "50%         0.002400       0.002400       0.002400       0.002400   \n",
       "75%         0.024400       0.002400       0.012200       0.002400   \n",
       "max         2.399900       2.480500       1.340300       0.446800   \n",
       "\n",
       "                emg5           emg6           emg7           emg8  \\\n",
       "count  101014.000000  101014.000000  101014.000000  101014.000000   \n",
       "mean        0.003868       0.005367       0.167648       0.116476   \n",
       "std         0.009796       0.021238       0.403823       0.174862   \n",
       "min         0.002400       0.000000       0.002400       0.002400   \n",
       "25%         0.002400       0.002400       0.009800       0.039100   \n",
       "50%         0.002400       0.002400       0.046400       0.061000   \n",
       "75%         0.002400       0.002400       0.129400       0.109900   \n",
       "max         0.293000       0.639600       4.660600       3.000500   \n",
       "\n",
       "                emg9          emg10     repetition   rerepetition  \\\n",
       "count  101014.000000  101014.000000  101014.000000  101014.000000   \n",
       "mean        0.073460       0.054120       3.372948       2.055349   \n",
       "std         0.156381       0.112567       3.497555       3.188164   \n",
       "min         0.000000       0.002400       0.000000       0.000000   \n",
       "25%         0.002400       0.004900       0.000000       0.000000   \n",
       "50%         0.002400       0.017100       2.000000       0.000000   \n",
       "75%         0.068400       0.048800       6.000000       4.000000   \n",
       "max         1.752900       1.599100      10.000000      10.000000   \n",
       "\n",
       "            stimulus     restimulus  \n",
       "count  101014.000000  101014.000000  \n",
       "mean        3.985665       2.329905  \n",
       "std         4.162080       3.691976  \n",
       "min         0.000000       0.000000  \n",
       "25%         0.000000       0.000000  \n",
       "50%         3.000000       0.000000  \n",
       "75%         8.000000       4.000000  \n",
       "max        12.000000      12.000000  "
      ]
     },
     "execution_count": 8,
     "metadata": {},
     "output_type": "execute_result"
    }
   ],
   "source": [
    "raw_data.describe(include='all')"
   ]
  },
  {
   "cell_type": "code",
   "execution_count": 9,
   "id": "a70df23c",
   "metadata": {},
   "outputs": [
    {
     "name": "stdout",
     "output_type": "stream",
     "text": [
      "Unique Dependent values and their counts :\n",
      "0     39063\n",
      "2      5174\n",
      "4      5173\n",
      "5      5173\n",
      "12     5173\n",
      "8      5172\n",
      "7      5171\n",
      "6      5170\n",
      "11     5166\n",
      "3      5158\n",
      "1      5149\n",
      "10     5137\n",
      "9      5135\n",
      "Name: stimulus, dtype: int64\n"
     ]
    }
   ],
   "source": [
    "print(\"Unique Dependent values and their counts :\")\n",
    "print(raw_data[\"stimulus\"].value_counts())"
   ]
  },
  {
   "cell_type": "markdown",
   "id": "9ae34b94",
   "metadata": {},
   "source": [
    "# Data Cleaning "
   ]
  },
  {
   "cell_type": "code",
   "execution_count": 10,
   "id": "29fd5cb5",
   "metadata": {},
   "outputs": [],
   "source": [
    "index_names = raw_data[ (raw_data['stimulus'] != raw_data['restimulus'])].index\n",
    "raw_data.drop(index_names, inplace = True)"
   ]
  },
  {
   "cell_type": "code",
   "execution_count": 11,
   "id": "ebb08b77",
   "metadata": {},
   "outputs": [],
   "source": [
    "index_names = raw_data[ (raw_data['repetition'] != raw_data['rerepetition'])].index\n",
    "raw_data.drop(index_names, inplace = True)"
   ]
  },
  {
   "cell_type": "code",
   "execution_count": 12,
   "id": "9f1f5cf2",
   "metadata": {},
   "outputs": [],
   "source": [
    "X = raw_data.iloc[:,0:10]\n",
    "y = raw_data.stimulus"
   ]
  },
  {
   "cell_type": "code",
   "execution_count": 30,
   "id": "6cfa2683",
   "metadata": {},
   "outputs": [],
   "source": [
    "# Splitting data for training and testing\n",
    "X_train, X_test, y_train, y_test = train_test_split(X, y, test_size = 0.2, random_state = 39)"
   ]
  },
  {
   "cell_type": "markdown",
   "id": "cabce158",
   "metadata": {},
   "source": [
    "# Applying Simple Deeplearning Model"
   ]
  },
  {
   "cell_type": "code",
   "execution_count": 21,
   "id": "eef51f76",
   "metadata": {},
   "outputs": [],
   "source": [
    "from keras.models import Model\n",
    "from keras.layers import Input\n",
    "from keras.layers import Dense\n",
    "from keras.layers import Flatten\n",
    "from keras.models import Sequential\n",
    "from tensorflow.keras import activations"
   ]
  },
  {
   "cell_type": "markdown",
   "id": "0b2bab1e",
   "metadata": {},
   "source": [
    "# 1. Define Network"
   ]
  },
  {
   "cell_type": "code",
   "execution_count": 25,
   "id": "c86712a0",
   "metadata": {},
   "outputs": [],
   "source": [
    "visible = Input(shape=(10,))\n",
    "hidden1 = Dense(10, activation='relu')(visible)\n",
    "hidden2 = Dense(20, activation='relu')(hidden1)\n",
    "hidden3 = Dense(10, activation='relu')(hidden2)\n",
    "output = Dense(13, activation='softmax')(hidden3)\n",
    "model = Model(inputs=visible, outputs=output)"
   ]
  },
  {
   "cell_type": "code",
   "execution_count": 26,
   "id": "58b4e044",
   "metadata": {},
   "outputs": [
    {
     "name": "stdout",
     "output_type": "stream",
     "text": [
      "Model: \"functional_1\"\n",
      "_________________________________________________________________\n",
      "Layer (type)                 Output Shape              Param #   \n",
      "=================================================================\n",
      "input_1 (InputLayer)         [(None, 10)]              0         \n",
      "_________________________________________________________________\n",
      "dense_6 (Dense)              (None, 10)                110       \n",
      "_________________________________________________________________\n",
      "dense_7 (Dense)              (None, 20)                220       \n",
      "_________________________________________________________________\n",
      "dense_8 (Dense)              (None, 10)                210       \n",
      "_________________________________________________________________\n",
      "dense_9 (Dense)              (None, 13)                143       \n",
      "=================================================================\n",
      "Total params: 683\n",
      "Trainable params: 683\n",
      "Non-trainable params: 0\n",
      "_________________________________________________________________\n"
     ]
    }
   ],
   "source": [
    "# summarize layers\n",
    "model.summary()"
   ]
  },
  {
   "cell_type": "markdown",
   "id": "02ae33f9",
   "metadata": {},
   "source": [
    "# 2. Compile Network"
   ]
  },
  {
   "cell_type": "code",
   "execution_count": 28,
   "id": "76ce8638",
   "metadata": {},
   "outputs": [],
   "source": [
    "model.compile(optimizer='sgd', loss='mean_squared_error', metrics=['accuracy'])"
   ]
  },
  {
   "cell_type": "markdown",
   "id": "7bef5c54",
   "metadata": {},
   "source": [
    "# 3. Fit Network"
   ]
  },
  {
   "cell_type": "code",
   "execution_count": 31,
   "id": "3c7e93d9",
   "metadata": {},
   "outputs": [
    {
     "name": "stdout",
     "output_type": "stream",
     "text": [
      "Epoch 1/5\n",
      "6004/6004 [==============================] - 6s 954us/step - loss: 24.6745 - accuracy: 0.0335\n",
      "Epoch 2/5\n",
      "6004/6004 [==============================] - ETA: 0s - loss: 24.6872 - accuracy: 0.034 - 5s 885us/step - loss: 24.6745 - accuracy: 0.0340\n",
      "Epoch 3/5\n",
      "6004/6004 [==============================] - 6s 1ms/step - loss: 24.6745 - accuracy: 0.0348- ETA: 1s - loss: 24.7244 - accur - ETA: 0s - loss: 24.6995 - ac\n",
      "Epoch 4/5\n",
      "6004/6004 [==============================] - 6s 934us/step - loss: 24.6745 - accuracy: 0.0366 0s - loss: 24.6921 - accuracy: 0.03\n",
      "Epoch 5/5\n",
      "6004/6004 [==============================] - 7s 1ms/step - loss: 24.6745 - accuracy: 0.0385\n"
     ]
    }
   ],
   "source": [
    "history = model.fit(X_train, y_train, batch_size=10, epochs=5)"
   ]
  },
  {
   "cell_type": "markdown",
   "id": "3c9411b2",
   "metadata": {},
   "source": [
    "# 4. Evaluate Network"
   ]
  },
  {
   "cell_type": "code",
   "execution_count": 32,
   "id": "09595d2e",
   "metadata": {},
   "outputs": [
    {
     "name": "stdout",
     "output_type": "stream",
     "text": [
      "470/470 [==============================] - 0s 881us/step - loss: 24.5593 - accuracy: 0.0408\n"
     ]
    }
   ],
   "source": [
    "loss, accuracy = model.evaluate(X_test, y_test)"
   ]
  },
  {
   "cell_type": "markdown",
   "id": "4d46b3a6",
   "metadata": {},
   "source": [
    "# 5. Make Predictions"
   ]
  },
  {
   "cell_type": "code",
   "execution_count": 34,
   "id": "74ba51e8",
   "metadata": {},
   "outputs": [],
   "source": [
    "predictions = model.predict(X_test)"
   ]
  },
  {
   "cell_type": "code",
   "execution_count": 38,
   "id": "5e033236",
   "metadata": {},
   "outputs": [
    {
     "data": {
      "text/plain": [
       "array([[0.07694254, 0.07680286, 0.07691249, ..., 0.07658419, 0.07678415,\n",
       "        0.07697824],\n",
       "       [0.08263981, 0.07826456, 0.07538477, ..., 0.07733331, 0.08005805,\n",
       "        0.07524892],\n",
       "       [0.07695944, 0.0768721 , 0.07700636, ..., 0.07700279, 0.07681726,\n",
       "        0.07708717],\n",
       "       ...,\n",
       "       [0.07704518, 0.07689646, 0.0770283 , ..., 0.07726291, 0.07689343,\n",
       "        0.07706356],\n",
       "       [0.07736907, 0.07811206, 0.07459123, ..., 0.07681134, 0.07813141,\n",
       "        0.07360783],\n",
       "       [0.07644071, 0.07899835, 0.0799602 , ..., 0.07698752, 0.07650886,\n",
       "        0.07899555]], dtype=float32)"
      ]
     },
     "execution_count": 38,
     "metadata": {},
     "output_type": "execute_result"
    }
   ],
   "source": [
    "predictions"
   ]
  },
  {
   "cell_type": "code",
   "execution_count": null,
   "id": "1f2bd4aa",
   "metadata": {},
   "outputs": [],
   "source": []
  }
 ],
 "metadata": {
  "kernelspec": {
   "display_name": "Python 3 (ipykernel)",
   "language": "python",
   "name": "python3"
  },
  "language_info": {
   "codemirror_mode": {
    "name": "ipython",
    "version": 3
   },
   "file_extension": ".py",
   "mimetype": "text/x-python",
   "name": "python",
   "nbconvert_exporter": "python",
   "pygments_lexer": "ipython3",
   "version": "3.8.12"
  }
 },
 "nbformat": 4,
 "nbformat_minor": 5
}
